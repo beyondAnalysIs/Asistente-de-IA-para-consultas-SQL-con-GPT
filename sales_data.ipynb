{
 "cells": [
  {
   "cell_type": "markdown",
   "id": "70f66445",
   "metadata": {},
   "source": [
    "CREAR UN AGENTE DE IA CON LANGCHAIN\n",
    "\n",
    "Instalación de librerías:\n",
    "\n",
    "pip install --upgrade --quiet sqlalchemy langchain langchain-community langchain-openai pandas python-dotenv\n",
    "                   "
   ]
  },
  {
   "cell_type": "code",
   "execution_count": 1,
   "id": "447ee3a3",
   "metadata": {},
   "outputs": [],
   "source": [
    "import sqlalchemy \n",
    "import langchain \n",
    "import langchain_community\n",
    "import langchain_openai\n",
    "import pandas as pd\n",
    "import dotenv"
   ]
  },
  {
   "cell_type": "markdown",
   "id": "3e05c7c7",
   "metadata": {},
   "source": [
    "CARGAR DATOS CSV"
   ]
  },
  {
   "cell_type": "code",
   "execution_count": 7,
   "id": "6bd5e55c",
   "metadata": {},
   "outputs": [
    {
     "name": "stdout",
     "output_type": "stream",
     "text": [
      "   index             Order ID      Date                        Status  \\\n",
      "0      0  405-8078784-5731545  04-30-22                     Cancelled   \n",
      "1      1  171-9198151-1101146  04-30-22  Shipped - Delivered to Buyer   \n",
      "2      2  404-0687676-7273146  04-30-22                       Shipped   \n",
      "3      3  403-9615377-8133951  04-30-22                     Cancelled   \n",
      "4      4  407-1069790-7240320  04-30-22                       Shipped   \n",
      "5      5  404-1490984-4578765  04-30-22                       Shipped   \n",
      "6      6  408-5748499-6859555  04-30-22                       Shipped   \n",
      "\n",
      "  Fulfilment Sales Channel  ship-service-level    Style              SKU  \\\n",
      "0   Merchant      Amazon.in           Standard   SET389   SET389-KR-NP-S   \n",
      "1   Merchant      Amazon.in           Standard  JNE3781  JNE3781-KR-XXXL   \n",
      "2     Amazon      Amazon.in          Expedited  JNE3371    JNE3371-KR-XL   \n",
      "3   Merchant      Amazon.in           Standard    J0341       J0341-DR-L   \n",
      "4     Amazon      Amazon.in          Expedited  JNE3671  JNE3671-TU-XXXL   \n",
      "5     Amazon      Amazon.in          Expedited   SET264  SET264-KR-NP-XL   \n",
      "6     Amazon      Amazon.in          Expedited    J0095      J0095-SET-L   \n",
      "\n",
      "        Category  ... currency  Amount    ship-city     ship-state  \\\n",
      "0            Set  ...      INR  647.62       MUMBAI    MAHARASHTRA   \n",
      "1          kurta  ...      INR  406.00    BENGALURU      KARNATAKA   \n",
      "2          kurta  ...      INR  329.00  NAVI MUMBAI    MAHARASHTRA   \n",
      "3  Western Dress  ...      INR  753.33   PUDUCHERRY     PUDUCHERRY   \n",
      "4            Top  ...      INR  574.00      CHENNAI     TAMIL NADU   \n",
      "5            Set  ...      INR  824.00    GHAZIABAD  UTTAR PRADESH   \n",
      "6            Set  ...      INR  653.00   CHANDIGARH     CHANDIGARH   \n",
      "\n",
      "  ship-postal-code  ship-country  \\\n",
      "0         400081.0            IN   \n",
      "1         560085.0            IN   \n",
      "2         410210.0            IN   \n",
      "3         605008.0            IN   \n",
      "4         600073.0            IN   \n",
      "5         201102.0            IN   \n",
      "6         160036.0            IN   \n",
      "\n",
      "                                       promotion-ids    B2B  fulfilled-by  \\\n",
      "0                                                NaN  False     Easy Ship   \n",
      "1  Amazon PLCC Free-Financing Universal Merchant ...  False     Easy Ship   \n",
      "2       IN Core Free Shipping 2015/04/08 23-48-5-108   True           NaN   \n",
      "3                                                NaN  False     Easy Ship   \n",
      "4                                                NaN  False           NaN   \n",
      "5       IN Core Free Shipping 2015/04/08 23-48-5-108  False           NaN   \n",
      "6       IN Core Free Shipping 2015/04/08 23-48-5-108  False           NaN   \n",
      "\n",
      "  Unnamed: 22  \n",
      "0         NaN  \n",
      "1         NaN  \n",
      "2         NaN  \n",
      "3         NaN  \n",
      "4         NaN  \n",
      "5         NaN  \n",
      "6         NaN  \n",
      "\n",
      "[7 rows x 24 columns]\n"
     ]
    },
    {
     "name": "stderr",
     "output_type": "stream",
     "text": [
      "C:\\Users\\ander\\AppData\\Local\\Temp\\ipykernel_15720\\2379400652.py:2: DtypeWarning: Columns (23) have mixed types. Specify dtype option on import or set low_memory=False.\n",
      "  df = pd.read_csv(\"Amazon Sale Report.csv\")\n"
     ]
    }
   ],
   "source": [
    "# cargar csv en pandas\n",
    "df = pd.read_csv(\"Amazon Sale Report.csv\") \n",
    "print(df.head(7))"
   ]
  },
  {
   "cell_type": "code",
   "execution_count": null,
   "id": "c7d74835-323e-4a1d-99d4-ddf7e1685a24",
   "metadata": {},
   "outputs": [],
   "source": []
  },
  {
   "cell_type": "code",
   "execution_count": null,
   "id": "331fd3bf-c41a-46c6-bae8-8ce7e355c9d3",
   "metadata": {},
   "outputs": [],
   "source": []
  }
 ],
 "metadata": {
  "kernelspec": {
   "display_name": "env_sale_amazon",
   "language": "python",
   "name": "python3"
  },
  "language_info": {
   "codemirror_mode": {
    "name": "ipython",
    "version": 3
   },
   "file_extension": ".py",
   "mimetype": "text/x-python",
   "name": "python",
   "nbconvert_exporter": "python",
   "pygments_lexer": "ipython3",
   "version": "3.12.2"
  }
 },
 "nbformat": 4,
 "nbformat_minor": 5
}
