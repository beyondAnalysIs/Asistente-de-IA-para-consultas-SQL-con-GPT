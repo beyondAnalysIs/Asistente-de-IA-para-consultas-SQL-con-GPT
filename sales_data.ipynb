{
 "cells": [
  {
   "cell_type": "markdown",
   "id": "70f66445",
   "metadata": {},
   "source": [
    "--- CREAR UN AGENTE DE IA CON LANGCHAIN ---\n",
    "Instalación de librerías:\n",
    "\n",
    "pip install --upgrade --quiet sqlalchemy langchain langchain-community langchain-openai pandas python-dotenv\n",
    "                   "
   ]
  },
  {
   "cell_type": "markdown",
   "id": "3e05c7c7",
   "metadata": {},
   "source": [
    "CARGAR DATOS CSV"
   ]
  },
  {
   "cell_type": "code",
   "execution_count": 16,
   "id": "6bd5e55c",
   "metadata": {},
   "outputs": [
    {
     "name": "stderr",
     "output_type": "stream",
     "text": [
      "C:\\Users\\ander\\AppData\\Local\\Temp\\ipykernel_15732\\1436979351.py:3: DtypeWarning: Columns (23) have mixed types. Specify dtype option on import or set low_memory=False.\n",
      "  df = pd.read_csv(\"Amazon Sale Report.csv\")\n"
     ]
    },
    {
     "name": "stdout",
     "output_type": "stream",
     "text": [
      "   index             Order ID      Date                        Status  \\\n",
      "0      0  405-8078784-5731545  04-30-22                     Cancelled   \n",
      "1      1  171-9198151-1101146  04-30-22  Shipped - Delivered to Buyer   \n",
      "2      2  404-0687676-7273146  04-30-22                       Shipped   \n",
      "3      3  403-9615377-8133951  04-30-22                     Cancelled   \n",
      "4      4  407-1069790-7240320  04-30-22                       Shipped   \n",
      "5      5  404-1490984-4578765  04-30-22                       Shipped   \n",
      "6      6  408-5748499-6859555  04-30-22                       Shipped   \n",
      "\n",
      "  Fulfilment Sales Channel  ship-service-level    Style              SKU  \\\n",
      "0   Merchant      Amazon.in           Standard   SET389   SET389-KR-NP-S   \n",
      "1   Merchant      Amazon.in           Standard  JNE3781  JNE3781-KR-XXXL   \n",
      "2     Amazon      Amazon.in          Expedited  JNE3371    JNE3371-KR-XL   \n",
      "3   Merchant      Amazon.in           Standard    J0341       J0341-DR-L   \n",
      "4     Amazon      Amazon.in          Expedited  JNE3671  JNE3671-TU-XXXL   \n",
      "5     Amazon      Amazon.in          Expedited   SET264  SET264-KR-NP-XL   \n",
      "6     Amazon      Amazon.in          Expedited    J0095      J0095-SET-L   \n",
      "\n",
      "        Category  ... currency  Amount    ship-city     ship-state  \\\n",
      "0            Set  ...      INR  647.62       MUMBAI    MAHARASHTRA   \n",
      "1          kurta  ...      INR  406.00    BENGALURU      KARNATAKA   \n",
      "2          kurta  ...      INR  329.00  NAVI MUMBAI    MAHARASHTRA   \n",
      "3  Western Dress  ...      INR  753.33   PUDUCHERRY     PUDUCHERRY   \n",
      "4            Top  ...      INR  574.00      CHENNAI     TAMIL NADU   \n",
      "5            Set  ...      INR  824.00    GHAZIABAD  UTTAR PRADESH   \n",
      "6            Set  ...      INR  653.00   CHANDIGARH     CHANDIGARH   \n",
      "\n",
      "  ship-postal-code  ship-country  \\\n",
      "0         400081.0            IN   \n",
      "1         560085.0            IN   \n",
      "2         410210.0            IN   \n",
      "3         605008.0            IN   \n",
      "4         600073.0            IN   \n",
      "5         201102.0            IN   \n",
      "6         160036.0            IN   \n",
      "\n",
      "                                       promotion-ids    B2B  fulfilled-by  \\\n",
      "0                                                NaN  False     Easy Ship   \n",
      "1  Amazon PLCC Free-Financing Universal Merchant ...  False     Easy Ship   \n",
      "2       IN Core Free Shipping 2015/04/08 23-48-5-108   True           NaN   \n",
      "3                                                NaN  False     Easy Ship   \n",
      "4                                                NaN  False           NaN   \n",
      "5       IN Core Free Shipping 2015/04/08 23-48-5-108  False           NaN   \n",
      "6       IN Core Free Shipping 2015/04/08 23-48-5-108  False           NaN   \n",
      "\n",
      "  Unnamed: 22  \n",
      "0         NaN  \n",
      "1         NaN  \n",
      "2         NaN  \n",
      "3         NaN  \n",
      "4         NaN  \n",
      "5         NaN  \n",
      "6         NaN  \n",
      "\n",
      "[7 rows x 24 columns]\n"
     ]
    }
   ],
   "source": [
    "import pandas as pd\n",
    "# cargar csv en pandas\n",
    "df = pd.read_csv(\"Amazon Sale Report.csv\") \n",
    "print(df.head(7))"
   ]
  },
  {
   "cell_type": "code",
   "execution_count": 17,
   "id": "ece65b91",
   "metadata": {},
   "outputs": [
    {
     "data": {
      "text/plain": [
       "Index(['index', 'Order ID', 'Date', 'Status', 'Fulfilment', 'Sales Channel ',\n",
       "       'ship-service-level', 'Style', 'SKU', 'Category', 'Size', 'ASIN',\n",
       "       'Courier Status', 'Qty', 'currency', 'Amount', 'ship-city',\n",
       "       'ship-state', 'ship-postal-code', 'ship-country', 'promotion-ids',\n",
       "       'B2B', 'fulfilled-by', 'Unnamed: 22'],\n",
       "      dtype='object')"
      ]
     },
     "execution_count": 17,
     "metadata": {},
     "output_type": "execute_result"
    }
   ],
   "source": [
    "df.columns"
   ]
  },
  {
   "cell_type": "code",
   "execution_count": 18,
   "id": "924d76f8",
   "metadata": {},
   "outputs": [
    {
     "data": {
      "text/plain": [
       "0                   Set\n",
       "1                 kurta\n",
       "2                 kurta\n",
       "3         Western Dress\n",
       "4                   Top\n",
       "              ...      \n",
       "128970            kurta\n",
       "128971              Set\n",
       "128972    Western Dress\n",
       "128973              Set\n",
       "128974              Set\n",
       "Name: Category, Length: 128975, dtype: object"
      ]
     },
     "execution_count": 18,
     "metadata": {},
     "output_type": "execute_result"
    }
   ],
   "source": [
    "df[\"Category\"]"
   ]
  },
  {
   "cell_type": "code",
   "execution_count": 19,
   "id": "750426fa",
   "metadata": {},
   "outputs": [
    {
     "data": {
      "text/plain": [
       "index                   int64\n",
       "Order ID               object\n",
       "Date                   object\n",
       "Status                 object\n",
       "Fulfilment             object\n",
       "Sales Channel          object\n",
       "ship-service-level     object\n",
       "Style                  object\n",
       "SKU                    object\n",
       "Category               object\n",
       "Size                   object\n",
       "ASIN                   object\n",
       "Courier Status         object\n",
       "Qty                     int64\n",
       "currency               object\n",
       "Amount                float64\n",
       "ship-city              object\n",
       "ship-state             object\n",
       "ship-postal-code      float64\n",
       "ship-country           object\n",
       "promotion-ids          object\n",
       "B2B                      bool\n",
       "fulfilled-by           object\n",
       "Unnamed: 22            object\n",
       "dtype: object"
      ]
     },
     "execution_count": 19,
     "metadata": {},
     "output_type": "execute_result"
    }
   ],
   "source": [
    "df.dtypes"
   ]
  },
  {
   "cell_type": "code",
   "execution_count": 20,
   "id": "1c4d4767",
   "metadata": {},
   "outputs": [
    {
     "data": {
      "text/plain": [
       "index                     0\n",
       "Order ID                  0\n",
       "Date                      0\n",
       "Status                    0\n",
       "Fulfilment                0\n",
       "Sales Channel             0\n",
       "ship-service-level        0\n",
       "Style                     0\n",
       "SKU                       0\n",
       "Category                  0\n",
       "Size                      0\n",
       "ASIN                      0\n",
       "Courier Status         6872\n",
       "Qty                       0\n",
       "currency               7795\n",
       "Amount                 7795\n",
       "ship-city                33\n",
       "ship-state               33\n",
       "ship-postal-code         33\n",
       "ship-country             33\n",
       "promotion-ids         49153\n",
       "B2B                       0\n",
       "fulfilled-by          89698\n",
       "Unnamed: 22           49050\n",
       "dtype: int64"
      ]
     },
     "execution_count": 20,
     "metadata": {},
     "output_type": "execute_result"
    }
   ],
   "source": [
    "# manejo de valores nulos\n",
    "df.isnull().sum()"
   ]
  },
  {
   "cell_type": "code",
   "execution_count": 21,
   "id": "cacb899f",
   "metadata": {},
   "outputs": [
    {
     "data": {
      "text/plain": [
       "{'index': 0,\n",
       " 'Order ID': 'Sin registro',\n",
       " 'Date': 'Sin registro',\n",
       " 'Status': 'Sin registro',\n",
       " 'Fulfilment': 'Sin registro',\n",
       " 'Sales Channel ': 'Sin registro',\n",
       " 'ship-service-level': 'Sin registro',\n",
       " 'Style': 'Sin registro',\n",
       " 'SKU': 'Sin registro',\n",
       " 'Category': 'Sin registro',\n",
       " 'Size': 'Sin registro',\n",
       " 'ASIN': 'Sin registro',\n",
       " 'Courier Status': 'Sin registro',\n",
       " 'Qty': 0,\n",
       " 'currency': 'Sin registro',\n",
       " 'Amount': 0,\n",
       " 'ship-city': 'Sin registro',\n",
       " 'ship-state': 'Sin registro',\n",
       " 'ship-postal-code': 0,\n",
       " 'ship-country': 'Sin registro',\n",
       " 'promotion-ids': 'Sin registro',\n",
       " 'B2B': 'Sin registro',\n",
       " 'fulfilled-by': 'Sin registro',\n",
       " 'Unnamed: 22': 'Sin registro'}"
      ]
     },
     "execution_count": 21,
     "metadata": {},
     "output_type": "execute_result"
    }
   ],
   "source": [
    "# rellenar con ceros y texto\n",
    "value_replace = {\n",
    "    col: 0 if df[col].dtype in [\"int64\", \"float64\"] else \"Sin registro\" for col in df.columns\n",
    "}\n",
    "value_replace"
   ]
  },
  {
   "cell_type": "markdown",
   "id": "b3136806",
   "metadata": {},
   "source": [
    "--- CARGAR CSV EN BASE DE DATOS SQLITE ---"
   ]
  },
  {
   "cell_type": "code",
   "execution_count": 22,
   "id": "28c7fa39",
   "metadata": {},
   "outputs": [
    {
     "data": {
      "text/plain": [
       "128975"
      ]
     },
     "execution_count": 22,
     "metadata": {},
     "output_type": "execute_result"
    }
   ],
   "source": [
    "import sqlite3 \n",
    "from sqlalchemy import create_engine\n",
    "\n",
    "# crear un motor de base de datos SQLite con SQLAlchemy\n",
    "engine = create_engine(\"sqlite:///Amazon_sale_Report.db\")\n",
    "\n",
    "df.to_sql(\"ventas_amazon\", engine, if_exists=\"replace\", index=False)\n",
    "  "
   ]
  },
  {
   "cell_type": "markdown",
   "id": "3e26ae14",
   "metadata": {},
   "source": [
    "--- CREACIÓN DE AGENTE PARA INTERACTUAR CON LA BASE DE DATOS SQL ---"
   ]
  },
  {
   "cell_type": "code",
   "execution_count": 23,
   "id": "c7d74835-323e-4a1d-99d4-ddf7e1685a24",
   "metadata": {},
   "outputs": [],
   "source": [
    "# importar dotenv para cargar varibles de entorno\n",
    "from dotenv import load_dotenv\n",
    "import os\n",
    "\n",
    "from langchain_community.utilities import SQLDatabase\n",
    "from langchain_community.agent_toolkits import create_sql_agent\n",
    "from langchain_openai import ChatOpenAI\n",
    "\n",
    "# load variables de entorno desde el archivo .env.txt\n",
    "load_dotenv()\n",
    "\n",
    "# conectar el agente langchain con la base de datos SQL \n",
    "db = SQLDatabase(engine=engine)\n",
    "\n",
    "# Instanciar el LLM\n",
    "llm = ChatOpenAI(model=\"gpt-4o\", temperature=0, openai_api_key=os.getenv(\"OPENAI_API_KEY\"))  \n",
    "\n",
    "# crear agente\n",
    "agent_executor = create_sql_agent(llm, db=db, agent_type=\"openai-tools\", verbose=False)"
   ]
  },
  {
   "cell_type": "markdown",
   "id": "264a37d2",
   "metadata": {},
   "source": [
    "--- CONSULTA DE DATOS ---"
   ]
  },
  {
   "cell_type": "code",
   "execution_count": 24,
   "id": "331fd3bf-c41a-46c6-bae8-8ce7e355c9d3",
   "metadata": {},
   "outputs": [
    {
     "name": "stdout",
     "output_type": "stream",
     "text": [
      "Hay un total de 9 categorías distintas en el conjunto de datos. Los nombres de las categorías son:\n",
      "\n",
      "1. Set\n",
      "2. Kurta\n",
      "3. Western Dress\n",
      "4. Top\n",
      "5. Ethnic Dress\n",
      "6. Bottom\n",
      "7. Saree\n",
      "8. Blouse\n",
      "9. Dupatta\n"
     ]
    }
   ],
   "source": [
    "response = agent_executor.invoke({\"input\":\"¿Cuántas categorías hay en total en el df? Muestrame en nombre de cada categoría\"})\n",
    "print(response[\"output\"])"
   ]
  },
  {
   "cell_type": "code",
   "execution_count": 25,
   "id": "5465d2c7",
   "metadata": {},
   "outputs": [
    {
     "name": "stdout",
     "output_type": "stream",
     "text": [
      "Categorias únicas: ['Set', 'kurta', 'Western Dress', 'Top', 'Ethnic Dress', 'Bottom', 'Saree', 'Blouse', 'Dupatta']\n"
     ]
    }
   ],
   "source": [
    "# verificación cruzada\n",
    "\n",
    "num_category = df[\"Category\"].unique().tolist()\n",
    "print(\"Categorias únicas:\", num_category)"
   ]
  },
  {
   "cell_type": "code",
   "execution_count": 26,
   "id": "d6a2e72e",
   "metadata": {},
   "outputs": [
    {
     "name": "stdout",
     "output_type": "stream",
     "text": [
      "Here are the most sold sizes by category:\n",
      "\n",
      "- **Blouse**:\n",
      "  - Free: 211 units\n",
      "  - M: 138 units\n",
      "  - S: 128 units\n",
      "  - L: 128 units\n",
      "  - XXL: 117 units\n",
      "  - XL: 116 units\n",
      "  - XS: 25 units\n",
      "\n",
      "- **Bottom**:\n",
      "  - S: 67 units\n",
      "  - L: 67 units\n",
      "  - XXL: 64 units\n",
      "\n",
      "These are the top-selling sizes for each category based on the available data.\n"
     ]
    }
   ],
   "source": [
    "response = agent_executor.invoke({\"input\":\"¿Cuáles son las tallas más vendidas por categoría?\"})\n",
    "print(response[\"output\"])"
   ]
  },
  {
   "cell_type": "code",
   "execution_count": 27,
   "id": "a4316101",
   "metadata": {},
   "outputs": [
    {
     "name": "stdout",
     "output_type": "stream",
     "text": [
      "         Category  Size  Total\n",
      "6          Blouse   XXL    124\n",
      "5          Blouse    XS     28\n",
      "4          Blouse    XL    133\n",
      "3          Blouse     S    140\n",
      "2          Blouse     M    154\n",
      "1          Blouse     L    136\n",
      "0          Blouse  Free    211\n",
      "13         Bottom   XXL     74\n",
      "12         Bottom    XS     28\n",
      "11         Bottom    XL     71\n",
      "10         Bottom     S     74\n",
      "9          Bottom     M     58\n",
      "8          Bottom     L     71\n",
      "7          Bottom   3XL     64\n",
      "14        Dupatta  Free      3\n",
      "21   Ethnic Dress   XXL    157\n",
      "20   Ethnic Dress    XS     88\n",
      "19   Ethnic Dress    XL    194\n",
      "18   Ethnic Dress     S    176\n",
      "17   Ethnic Dress     M    180\n",
      "16   Ethnic Dress     L    192\n",
      "15   Ethnic Dress   3XL    172\n",
      "22          Saree  Free    164\n",
      "32            Set   XXL   6168\n",
      "31            Set    XS   5506\n",
      "30            Set    XL   7572\n",
      "29            Set     S   7512\n",
      "28            Set     M   9347\n",
      "27            Set     L   8194\n",
      "26            Set   6XL     81\n",
      "25            Set   5XL     61\n",
      "24            Set   4XL     48\n",
      "23            Set   3XL   5795\n",
      "39            Top   XXL   1797\n",
      "38            Top    XS    949\n",
      "37            Top    XL   1855\n",
      "36            Top     S   1238\n",
      "35            Top     M   1825\n",
      "34            Top     L   1774\n",
      "33            Top   3XL   1184\n",
      "46  Western Dress   XXL   2118\n",
      "45  Western Dress    XS   1431\n",
      "44  Western Dress    XL   2379\n",
      "43  Western Dress     S   2225\n",
      "42  Western Dress     M   2587\n",
      "41  Western Dress     L   2845\n",
      "40  Western Dress   3XL   1915\n",
      "56          kurta   XXL   7658\n",
      "55          kurta    XS   3131\n",
      "54          kurta    XL   8672\n",
      "53          kurta     S   5725\n",
      "52          kurta     M   8560\n",
      "51          kurta     L   8920\n",
      "50          kurta   6XL    657\n",
      "49          kurta   5XL    489\n",
      "48          kurta   4XL    379\n",
      "47          kurta   3XL   5686\n"
     ]
    }
   ],
   "source": [
    "# verificación cruzada\n",
    "counts = df.groupby([\"Category\",\"Size\"]).size()\n",
    "counts = counts.reset_index(name=\"Total\")\n",
    "counts = counts.sort_values([\"Category\", \"Size\"], ascending=[True,False])\n",
    "print(counts)"
   ]
  },
  {
   "cell_type": "code",
   "execution_count": 28,
   "id": "6003c405",
   "metadata": {},
   "outputs": [
    {
     "name": "stdout",
     "output_type": "stream",
     "text": [
      "\n",
      "\n",
      "\u001b[1m> Entering new SQL Agent Executor chain...\u001b[0m\n",
      "\u001b[32;1m\u001b[1;3m\n",
      "Invoking: `sql_db_list_tables` with `{}`\n",
      "\n",
      "\n",
      "\u001b[0m\u001b[38;5;200m\u001b[1;3mventas_amazon\u001b[0m\u001b[32;1m\u001b[1;3m\n",
      "Invoking: `sql_db_schema` with `{'table_names': 'ventas_amazon'}`\n",
      "\n",
      "\n",
      "\u001b[0m\u001b[33;1m\u001b[1;3m\n",
      "CREATE TABLE ventas_amazon (\n",
      "\t\"index\" BIGINT, \n",
      "\t\"Order ID\" TEXT, \n",
      "\t\"Date\" TEXT, \n",
      "\t\"Status\" TEXT, \n",
      "\t\"Fulfilment\" TEXT, \n",
      "\t\"Sales Channel \" TEXT, \n",
      "\t\"ship-service-level\" TEXT, \n",
      "\t\"Style\" TEXT, \n",
      "\t\"SKU\" TEXT, \n",
      "\t\"Category\" TEXT, \n",
      "\t\"Size\" TEXT, \n",
      "\t\"ASIN\" TEXT, \n",
      "\t\"Courier Status\" TEXT, \n",
      "\t\"Qty\" BIGINT, \n",
      "\tcurrency TEXT, \n",
      "\t\"Amount\" FLOAT, \n",
      "\t\"ship-city\" TEXT, \n",
      "\t\"ship-state\" TEXT, \n",
      "\t\"ship-postal-code\" FLOAT, \n",
      "\t\"ship-country\" TEXT, \n",
      "\t\"promotion-ids\" TEXT, \n",
      "\t\"B2B\" BOOLEAN, \n",
      "\t\"fulfilled-by\" TEXT, \n",
      "\t\"Unnamed: 22\" BOOLEAN\n",
      ")\n",
      "\n",
      "/*\n",
      "3 rows from ventas_amazon table:\n",
      "index\tOrder ID\tDate\tStatus\tFulfilment\tSales Channel \tship-service-level\tStyle\tSKU\tCategory\tSize\tASIN\tCourier Status\tQty\tcurrency\tAmount\tship-city\tship-state\tship-postal-code\tship-country\tpromotion-ids\tB2B\tfulfilled-by\tUnnamed: 22\n",
      "0\t405-8078784-5731545\t04-30-22\tCancelled\tMerchant\tAmazon.in\tStandard\tSET389\tSET389-KR-NP-S\tSet\tS\tB09KXVBD7Z\tNone\t0\tINR\t647.62\tMUMBAI\tMAHARASHTRA\t400081.0\tIN\tNone\tFalse\tEasy Ship\tNone\n",
      "1\t171-9198151-1101146\t04-30-22\tShipped - Delivered to Buyer\tMerchant\tAmazon.in\tStandard\tJNE3781\tJNE3781-KR-XXXL\tkurta\t3XL\tB09K3WFS32\tShipped\t1\tINR\t406.0\tBENGALURU\tKARNATAKA\t560085.0\tIN\tAmazon PLCC Free-Financing Universal Merchant AAT-WNKTBO3K27EJC,Amazon PLCC Free-Financing Universal\tFalse\tEasy Ship\tNone\n",
      "2\t404-0687676-7273146\t04-30-22\tShipped\tAmazon\tAmazon.in\tExpedited\tJNE3371\tJNE3371-KR-XL\tkurta\tXL\tB07WV4JV4D\tShipped\t1\tINR\t329.0\tNAVI MUMBAI\tMAHARASHTRA\t410210.0\tIN\tIN Core Free Shipping 2015/04/08 23-48-5-108\tTrue\tNone\tNone\n",
      "*/\u001b[0m\u001b[32;1m\u001b[1;3m\n",
      "Invoking: `sql_db_query_checker` with `{'query': 'SELECT Category, SUM(Amount) as Total_Ganancias FROM ventas_amazon GROUP BY Category ORDER BY Total_Ganancias DESC LIMIT 10;'}`\n",
      "\n",
      "\n",
      "\u001b[0m\u001b[36;1m\u001b[1;3m```sql\n",
      "SELECT Category, SUM(Amount) as Total_Ganancias FROM ventas_amazon GROUP BY Category ORDER BY Total_Ganancias DESC LIMIT 10;\n",
      "```\u001b[0m\u001b[32;1m\u001b[1;3m\n",
      "Invoking: `sql_db_query` with `{'query': 'SELECT Category, SUM(Amount) as Total_Ganancias FROM ventas_amazon GROUP BY Category ORDER BY Total_Ganancias DESC LIMIT 10;'}`\n",
      "\n",
      "\n",
      "\u001b[0m\u001b[36;1m\u001b[1;3m[('Set', 39204124.03), ('kurta', 21299546.7), ('Western Dress', 11216072.69), ('Top', 5347792.3), ('Ethnic Dress', 791217.66), ('Blouse', 458408.18), ('Bottom', 150667.98), ('Saree', 123933.76), ('Dupatta', 915.0)]\u001b[0m\u001b[32;1m\u001b[1;3mAquí están las ganancias totales por cada categoría, ordenadas de mayor a menor:\n",
      "\n",
      "1. **Set**: 39,204,124.03\n",
      "2. **Kurta**: 21,299,546.70\n",
      "3. **Western Dress**: 11,216,072.69\n",
      "4. **Top**: 5,347,792.30\n",
      "5. **Ethnic Dress**: 791,217.66\n",
      "6. **Blouse**: 458,408.18\n",
      "7. **Bottom**: 150,667.98\n",
      "8. **Saree**: 123,933.76\n",
      "9. **Dupatta**: 915.00\n",
      "\n",
      "Estas cifras representan las ganancias totales en la moneda especificada en la base de datos.\u001b[0m\n",
      "\n",
      "\u001b[1m> Finished chain.\u001b[0m\n"
     ]
    }
   ],
   "source": [
    "# crear Agente con Verbose=True\n",
    "agent_executor = create_sql_agent(llm, db=db, agent_type=\"openai-tools\", verbose=True)\n",
    "response = agent_executor.invoke({\"input\":\"¿Cual es el total de ganancias por cada categoría?\"})"
   ]
  },
  {
   "cell_type": "code",
   "execution_count": 29,
   "id": "c4f943b9",
   "metadata": {},
   "outputs": [
    {
     "name": "stdout",
     "output_type": "stream",
     "text": [
      "\n",
      "\n",
      "\u001b[1m> Entering new SQL Agent Executor chain...\u001b[0m\n",
      "\u001b[32;1m\u001b[1;3m\n",
      "Invoking: `sql_db_list_tables` with `{}`\n",
      "\n",
      "\n",
      "\u001b[0m\u001b[38;5;200m\u001b[1;3mventas_amazon\u001b[0m\u001b[32;1m\u001b[1;3m\n",
      "Invoking: `sql_db_schema` with `{'table_names': 'ventas_amazon'}`\n",
      "\n",
      "\n",
      "\u001b[0m\u001b[33;1m\u001b[1;3m\n",
      "CREATE TABLE ventas_amazon (\n",
      "\t\"index\" BIGINT, \n",
      "\t\"Order ID\" TEXT, \n",
      "\t\"Date\" TEXT, \n",
      "\t\"Status\" TEXT, \n",
      "\t\"Fulfilment\" TEXT, \n",
      "\t\"Sales Channel \" TEXT, \n",
      "\t\"ship-service-level\" TEXT, \n",
      "\t\"Style\" TEXT, \n",
      "\t\"SKU\" TEXT, \n",
      "\t\"Category\" TEXT, \n",
      "\t\"Size\" TEXT, \n",
      "\t\"ASIN\" TEXT, \n",
      "\t\"Courier Status\" TEXT, \n",
      "\t\"Qty\" BIGINT, \n",
      "\tcurrency TEXT, \n",
      "\t\"Amount\" FLOAT, \n",
      "\t\"ship-city\" TEXT, \n",
      "\t\"ship-state\" TEXT, \n",
      "\t\"ship-postal-code\" FLOAT, \n",
      "\t\"ship-country\" TEXT, \n",
      "\t\"promotion-ids\" TEXT, \n",
      "\t\"B2B\" BOOLEAN, \n",
      "\t\"fulfilled-by\" TEXT, \n",
      "\t\"Unnamed: 22\" BOOLEAN\n",
      ")\n",
      "\n",
      "/*\n",
      "3 rows from ventas_amazon table:\n",
      "index\tOrder ID\tDate\tStatus\tFulfilment\tSales Channel \tship-service-level\tStyle\tSKU\tCategory\tSize\tASIN\tCourier Status\tQty\tcurrency\tAmount\tship-city\tship-state\tship-postal-code\tship-country\tpromotion-ids\tB2B\tfulfilled-by\tUnnamed: 22\n",
      "0\t405-8078784-5731545\t04-30-22\tCancelled\tMerchant\tAmazon.in\tStandard\tSET389\tSET389-KR-NP-S\tSet\tS\tB09KXVBD7Z\tNone\t0\tINR\t647.62\tMUMBAI\tMAHARASHTRA\t400081.0\tIN\tNone\tFalse\tEasy Ship\tNone\n",
      "1\t171-9198151-1101146\t04-30-22\tShipped - Delivered to Buyer\tMerchant\tAmazon.in\tStandard\tJNE3781\tJNE3781-KR-XXXL\tkurta\t3XL\tB09K3WFS32\tShipped\t1\tINR\t406.0\tBENGALURU\tKARNATAKA\t560085.0\tIN\tAmazon PLCC Free-Financing Universal Merchant AAT-WNKTBO3K27EJC,Amazon PLCC Free-Financing Universal\tFalse\tEasy Ship\tNone\n",
      "2\t404-0687676-7273146\t04-30-22\tShipped\tAmazon\tAmazon.in\tExpedited\tJNE3371\tJNE3371-KR-XL\tkurta\tXL\tB07WV4JV4D\tShipped\t1\tINR\t329.0\tNAVI MUMBAI\tMAHARASHTRA\t410210.0\tIN\tIN Core Free Shipping 2015/04/08 23-48-5-108\tTrue\tNone\tNone\n",
      "*/\u001b[0m\u001b[32;1m\u001b[1;3m\n",
      "Invoking: `sql_db_query_checker` with `{'query': \"SELECT Fulfilment, COUNT(*) * 100.0 / (SELECT COUNT(*) FROM ventas_amazon) AS SuccessRate FROM ventas_amazon WHERE Status = 'Shipped - Delivered to Buyer' GROUP BY Fulfilment LIMIT 10;\"}`\n",
      "\n",
      "\n",
      "\u001b[0m\u001b[36;1m\u001b[1;3m```sql\n",
      "SELECT Fulfilment, COUNT(*) * 100.0 / (SELECT COUNT(*) FROM ventas_amazon) AS SuccessRate \n",
      "FROM ventas_amazon \n",
      "WHERE Status = 'Shipped - Delivered to Buyer' \n",
      "GROUP BY Fulfilment \n",
      "LIMIT 10;\n",
      "```\u001b[0m\u001b[32;1m\u001b[1;3m\n",
      "Invoking: `sql_db_query` with `{'query': \"SELECT Fulfilment, COUNT(*) * 100.0 / (SELECT COUNT(*) FROM ventas_amazon) AS SuccessRate FROM ventas_amazon WHERE Status = 'Shipped - Delivered to Buyer' GROUP BY Fulfilment LIMIT 10;\"}`\n",
      "\n",
      "\n",
      "\u001b[0m\u001b[36;1m\u001b[1;3m[('Merchant', 22.305873231246366)]\u001b[0m\u001b[32;1m\u001b[1;3mLa Tasa de Éxito por Fulfillment para los pedidos que fueron \"Enviados y Entregados al Comprador\" por el método de cumplimiento \"Merchant\" es aproximadamente del 22.31%.\u001b[0m\n",
      "\n",
      "\u001b[1m> Finished chain.\u001b[0m\n"
     ]
    }
   ],
   "source": [
    "agent_executor = create_sql_agent(llm,db=db, agent_type=\"openai-tools\", verbose=True)\n",
    "response= agent_executor.invoke({\"input\":\"¿Cuál es la Tasa de Éxito por Fulfillment?\"})"
   ]
  },
  {
   "cell_type": "code",
   "execution_count": 30,
   "id": "e0ca870b",
   "metadata": {},
   "outputs": [
    {
     "name": "stdout",
     "output_type": "stream",
     "text": [
      "\n",
      "\n",
      "\u001b[1m> Entering new SQL Agent Executor chain...\u001b[0m\n",
      "\u001b[32;1m\u001b[1;3m\n",
      "Invoking: `sql_db_list_tables` with `{}`\n",
      "\n",
      "\n",
      "\u001b[0m\u001b[38;5;200m\u001b[1;3mventas_amazon\u001b[0m\u001b[32;1m\u001b[1;3m\n",
      "Invoking: `sql_db_schema` with `{'table_names': 'ventas_amazon'}`\n",
      "\n",
      "\n",
      "\u001b[0m\u001b[33;1m\u001b[1;3m\n",
      "CREATE TABLE ventas_amazon (\n",
      "\t\"index\" BIGINT, \n",
      "\t\"Order ID\" TEXT, \n",
      "\t\"Date\" TEXT, \n",
      "\t\"Status\" TEXT, \n",
      "\t\"Fulfilment\" TEXT, \n",
      "\t\"Sales Channel \" TEXT, \n",
      "\t\"ship-service-level\" TEXT, \n",
      "\t\"Style\" TEXT, \n",
      "\t\"SKU\" TEXT, \n",
      "\t\"Category\" TEXT, \n",
      "\t\"Size\" TEXT, \n",
      "\t\"ASIN\" TEXT, \n",
      "\t\"Courier Status\" TEXT, \n",
      "\t\"Qty\" BIGINT, \n",
      "\tcurrency TEXT, \n",
      "\t\"Amount\" FLOAT, \n",
      "\t\"ship-city\" TEXT, \n",
      "\t\"ship-state\" TEXT, \n",
      "\t\"ship-postal-code\" FLOAT, \n",
      "\t\"ship-country\" TEXT, \n",
      "\t\"promotion-ids\" TEXT, \n",
      "\t\"B2B\" BOOLEAN, \n",
      "\t\"fulfilled-by\" TEXT, \n",
      "\t\"Unnamed: 22\" BOOLEAN\n",
      ")\n",
      "\n",
      "/*\n",
      "3 rows from ventas_amazon table:\n",
      "index\tOrder ID\tDate\tStatus\tFulfilment\tSales Channel \tship-service-level\tStyle\tSKU\tCategory\tSize\tASIN\tCourier Status\tQty\tcurrency\tAmount\tship-city\tship-state\tship-postal-code\tship-country\tpromotion-ids\tB2B\tfulfilled-by\tUnnamed: 22\n",
      "0\t405-8078784-5731545\t04-30-22\tCancelled\tMerchant\tAmazon.in\tStandard\tSET389\tSET389-KR-NP-S\tSet\tS\tB09KXVBD7Z\tNone\t0\tINR\t647.62\tMUMBAI\tMAHARASHTRA\t400081.0\tIN\tNone\tFalse\tEasy Ship\tNone\n",
      "1\t171-9198151-1101146\t04-30-22\tShipped - Delivered to Buyer\tMerchant\tAmazon.in\tStandard\tJNE3781\tJNE3781-KR-XXXL\tkurta\t3XL\tB09K3WFS32\tShipped\t1\tINR\t406.0\tBENGALURU\tKARNATAKA\t560085.0\tIN\tAmazon PLCC Free-Financing Universal Merchant AAT-WNKTBO3K27EJC,Amazon PLCC Free-Financing Universal\tFalse\tEasy Ship\tNone\n",
      "2\t404-0687676-7273146\t04-30-22\tShipped\tAmazon\tAmazon.in\tExpedited\tJNE3371\tJNE3371-KR-XL\tkurta\tXL\tB07WV4JV4D\tShipped\t1\tINR\t329.0\tNAVI MUMBAI\tMAHARASHTRA\t410210.0\tIN\tIN Core Free Shipping 2015/04/08 23-48-5-108\tTrue\tNone\tNone\n",
      "*/\u001b[0m\u001b[32;1m\u001b[1;3m\n",
      "Invoking: `sql_db_query_checker` with `{'query': 'SELECT \"ship-state\", SUM(\"Amount\") as total_ganancia FROM ventas_amazon GROUP BY \"ship-state\" ORDER BY total_ganancia DESC LIMIT 10;'}`\n",
      "\n",
      "\n",
      "\u001b[0m\u001b[36;1m\u001b[1;3m```sql\n",
      "SELECT \"ship-state\", SUM(\"Amount\") as total_ganancia FROM ventas_amazon GROUP BY \"ship-state\" ORDER BY total_ganancia DESC LIMIT 10;\n",
      "```\u001b[0m\u001b[32;1m\u001b[1;3m\n",
      "Invoking: `sql_db_query` with `{'query': 'SELECT \"ship-state\", SUM(\"Amount\") as total_ganancia FROM ventas_amazon GROUP BY \"ship-state\" ORDER BY total_ganancia DESC LIMIT 10;'}`\n",
      "\n",
      "\n",
      "\u001b[0m\u001b[36;1m\u001b[1;3m[('MAHARASHTRA', 13335534.14), ('KARNATAKA', 10481114.37), ('TELANGANA', 6916615.65), ('UTTAR PRADESH', 6816642.08), ('TAMIL NADU', 6515650.11), ('DELHI', 4235215.97), ('KERALA', 3830227.58), ('WEST BENGAL', 3507880.44), ('ANDHRA PRADESH', 3219831.72), ('HARYANA', 2882092.99)]\u001b[0m\u001b[32;1m\u001b[1;3mLas ganancias por estado son las siguientes:\n",
      "\n",
      "1. Maharashtra: 13,335,534.14\n",
      "2. Karnataka: 10,481,114.37\n",
      "3. Telangana: 6,916,615.65\n",
      "4. Uttar Pradesh: 6,816,642.08\n",
      "5. Tamil Nadu: 6,515,650.11\n",
      "6. Delhi: 4,235,215.97\n",
      "7. Kerala: 3,830,227.58\n",
      "8. West Bengal: 3,507,880.44\n",
      "9. Andhra Pradesh: 3,219,831.72\n",
      "10. Haryana: 2,882,092.99\n",
      "\n",
      "Estas cifras representan las ganancias totales por estado.\u001b[0m\n",
      "\n",
      "\u001b[1m> Finished chain.\u001b[0m\n"
     ]
    }
   ],
   "source": [
    "agent_executor = create_sql_agent(llm, db=db, agent_type=\"openai-tools\", verbose=True)\n",
    "response = agent_executor.invoke({\"input\":\"¿Cuánta es la ganancia por estado?\"})"
   ]
  }
 ],
 "metadata": {
  "kernelspec": {
   "display_name": "env_sale_amazon",
   "language": "python",
   "name": "python3"
  },
  "language_info": {
   "codemirror_mode": {
    "name": "ipython",
    "version": 3
   },
   "file_extension": ".py",
   "mimetype": "text/x-python",
   "name": "python",
   "nbconvert_exporter": "python",
   "pygments_lexer": "ipython3",
   "version": "3.12.2"
  }
 },
 "nbformat": 4,
 "nbformat_minor": 5
}
